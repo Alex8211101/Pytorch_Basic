{
 "cells": [
  {
   "cell_type": "markdown",
   "metadata": {},
   "source": [
    "![title](./picture/GooLeNet.jpg)\n",
    "## Inception Module\n",
    "#### 在构造神经网络时，有一些超参数很难选(如，Kernel_size)，不知道哪种卷积好用，所以GooLeNet就在一个块里，将这几种卷积都用一遍，\n",
    "#### 然后把他们结果摞到一起，如果结果3×3的卷积好用，那么这条分支的权重就变得比较大，而其他分支的权重就会变小。\n",
    "#### 总之，就是提供几种候选的卷积神经网络的配置，然后通过训练在这几条分支中自动的找到最优的卷积组合。\n",
    "### 注意:\n",
    "#### (1) 每条分支出来的图像 w×h 必须相同才能拼接，为了满足在Conv可以设置padding，在Pooling可以设置stride和padding\n",
    "#### (2) 1×1卷积是做信息融合，最主要的作用就是改变通道的数量，(因为c×w×h的图像经过一个1×1的卷积，得到一个1×w×h的图像，\n",
    "#### 那么通过m个1×1的卷积就能得到m×w×h的图像)从而减少运算量，具体见下图：(在时间效率上额可以提高10倍左右!)\n",
    "![title](./picture/GooLeNet0.jpg)"
   ]
  },
  {
   "cell_type": "code",
   "execution_count": 1,
   "metadata": {},
   "outputs": [],
   "source": [
    "import torch\n",
    "from torchvision import transforms\n",
    "from torchvision import datasets\n",
    "from torch.utils.data import DataLoader\n",
    "import torch.nn.functional as F\n",
    "import torch.optim as optim\n",
    "import torch.nn as nn"
   ]
  },
  {
   "cell_type": "code",
   "execution_count": 2,
   "metadata": {},
   "outputs": [],
   "source": [
    "batch_size = 64\n",
    "transform = transforms.Compose([\n",
    "    transforms.ToTensor(),\n",
    "    transforms.Normalize((0.1307, ), (0.3801,))\n",
    "])"
   ]
  },
  {
   "cell_type": "code",
   "execution_count": 3,
   "metadata": {},
   "outputs": [],
   "source": [
    "train_dataset = datasets.MNIST(root='./dataset/mnist/',\n",
    "                               train=True,\n",
    "                               download=False,\n",
    "                               transform=transform)\n",
    "\n",
    "train_loader = DataLoader(train_dataset,\n",
    "                          shuffle=True,\n",
    "                          batch_size=batch_size)"
   ]
  },
  {
   "cell_type": "code",
   "execution_count": 4,
   "metadata": {},
   "outputs": [],
   "source": [
    "test_dataset = datasets.MNIST(root='./dataset/mnist/',\n",
    "                               train=False,\n",
    "                               download=False,\n",
    "                               transform=transform)\n",
    "\n",
    "test_loader = DataLoader(test_dataset,\n",
    "                          shuffle=False,\n",
    "                          batch_size=batch_size)"
   ]
  },
  {
   "cell_type": "code",
   "execution_count": 2,
   "metadata": {},
   "outputs": [
    {
     "data": {
      "text/html": [
       "<img src='./picture/CNN7.jpg', width=800>\n",
       "<img src='./picture/CNN8.jpg', width=800>\n",
       "# outputs = [branch1x1, branch5x5, branch3x3, branch_pool]\n",
       "# return torch.cat(outputs, dim=1)\n"
      ],
      "text/plain": [
       "<IPython.core.display.HTML object>"
      ]
     },
     "metadata": {},
     "output_type": "display_data"
    }
   ],
   "source": [
    "%%html\n",
    "<img src='./picture/CNN7.jpg', width=800>\n",
    "<img src='./picture/CNN8.jpg', width=800>\n",
    "# outputs = [branch1x1, branch5x5, branch3x3, branch_pool]\n",
    "# return torch.cat(outputs, dim=1)"
   ]
  },
  {
   "cell_type": "code",
   "execution_count": 6,
   "metadata": {},
   "outputs": [],
   "source": [
    "class InceptionA(nn.Module):\n",
    "    def __init__(self, in_channels):\n",
    "        super(InceptionA, self).__init__()\n",
    "        self.branch1x1 = nn.Conv2d(in_channels, 16, kernel_size=1)\n",
    "        \n",
    "        self.branch5x5_1 = nn.Conv2d(in_channels,16, kernel_size=1)\n",
    "        self.branch5x5_2 = nn.Conv2d(16, 24, kernel_size=5, padding=2)\n",
    "        \n",
    "        self.branch3x3_1 = nn.Conv2d(in_channels, 16, kernel_size=1)\n",
    "        self.branch3x3_2 = nn.Conv2d(16, 24, kernel_size=3, padding=1)\n",
    "        self.branch3x3_3 = nn.Conv2d(24, 24, kernel_size=3, padding=1)\n",
    "        \n",
    "        self.branch_pool = nn.Conv2d(in_channels, 24, kernel_size=1)\n",
    "        \n",
    "    def forward(self, x):\n",
    "        branch1x1 = self.branch1x1(x)\n",
    "        \n",
    "        branch5x5 = self.branch5x5_1(x)\n",
    "        branch5x5 = self.branch5x5_2(branch5x5)\n",
    "        \n",
    "        branch3x3 = self.branch3x3_1(x)\n",
    "        branch3x3 = self.branch3x3_2(branch3x3)\n",
    "        branch3x3 = self.branch3x3_3(branch3x3)\n",
    "        \n",
    "        branch_pool = F.avg_pool2d(x, kernel_size=3, stride=1, padding=1) # 第一个分支的池化层\n",
    "        branch_pool = self.branch_pool(branch_pool)\n",
    "        \n",
    "        outputs = [branch1x1, branch5x5, branch3x3, branch_pool]\n",
    "        return torch.cat(outputs, dim=1) #沿着dim=1的维度拼起来，因为张量的维度是(b,c,w,h)，要沿着c这个维度拼起来"
   ]
  },
  {
   "cell_type": "code",
   "execution_count": 7,
   "metadata": {},
   "outputs": [],
   "source": [
    "class Net(nn.Module):\n",
    "    def __init__(self):\n",
    "        super(Net, self).__init__()\n",
    "        self.conv1 = nn.Conv2d(1, 10, kernel_size=5)\n",
    "        self.conv2 = nn.Conv2d(88, 20, kernel_size=5)\n",
    "        \n",
    "        self.incep1 = InceptionA(in_channels=10)\n",
    "        self.incep2 = InceptionA(in_channels=20)\n",
    "        \n",
    "        self.mp = nn.MaxPool2d(2)\n",
    "        self.fc = nn.Linear(1408, 10)\n",
    "        \n",
    "    def forward(self, x):                    # x.size()为 [in_size, 1, 28, 28]\n",
    "        in_size = x.size(0)\n",
    "        x = F.relu(self.mp(self.conv1(x)))   # x.size()为 [in_size, 10, 12, 12], 其中, 12 = (28-4) / 2\n",
    "        x = self.incep1(x)                   # x.size()为 [in_size, 88, 12, 12]\n",
    "        x = F.relu(self.mp(self.conv2(x)))   # x.size()为 [in_size, 20, 4, 4],   其中, 4 = (12-4) / 2\n",
    "        x = self.incep2(x)                   # x.size()为 [in_size, 88, 4, 4]\n",
    "        x = x.view(in_size, -1)              # x.size()为 [in_size, 1408] \n",
    "        x = self.fc(x)\n",
    "        return x"
   ]
  },
  {
   "cell_type": "code",
   "execution_count": 8,
   "metadata": {
    "scrolled": true
   },
   "outputs": [
    {
     "data": {
      "text/plain": [
       "Net(\n",
       "  (conv1): Conv2d(1, 10, kernel_size=(5, 5), stride=(1, 1))\n",
       "  (conv2): Conv2d(88, 20, kernel_size=(5, 5), stride=(1, 1))\n",
       "  (incep1): InceptionA(\n",
       "    (branch1x1): Conv2d(10, 16, kernel_size=(1, 1), stride=(1, 1))\n",
       "    (branch5x5_1): Conv2d(10, 16, kernel_size=(1, 1), stride=(1, 1))\n",
       "    (branch5x5_2): Conv2d(16, 24, kernel_size=(5, 5), stride=(1, 1), padding=(2, 2))\n",
       "    (branch3x3_1): Conv2d(10, 16, kernel_size=(1, 1), stride=(1, 1))\n",
       "    (branch3x3_2): Conv2d(16, 24, kernel_size=(3, 3), stride=(1, 1), padding=(1, 1))\n",
       "    (branch3x3_3): Conv2d(24, 24, kernel_size=(3, 3), stride=(1, 1), padding=(1, 1))\n",
       "    (branch_pool): Conv2d(10, 24, kernel_size=(1, 1), stride=(1, 1))\n",
       "  )\n",
       "  (incep2): InceptionA(\n",
       "    (branch1x1): Conv2d(20, 16, kernel_size=(1, 1), stride=(1, 1))\n",
       "    (branch5x5_1): Conv2d(20, 16, kernel_size=(1, 1), stride=(1, 1))\n",
       "    (branch5x5_2): Conv2d(16, 24, kernel_size=(5, 5), stride=(1, 1), padding=(2, 2))\n",
       "    (branch3x3_1): Conv2d(20, 16, kernel_size=(1, 1), stride=(1, 1))\n",
       "    (branch3x3_2): Conv2d(16, 24, kernel_size=(3, 3), stride=(1, 1), padding=(1, 1))\n",
       "    (branch3x3_3): Conv2d(24, 24, kernel_size=(3, 3), stride=(1, 1), padding=(1, 1))\n",
       "    (branch_pool): Conv2d(20, 24, kernel_size=(1, 1), stride=(1, 1))\n",
       "  )\n",
       "  (mp): MaxPool2d(kernel_size=2, stride=2, padding=0, dilation=1, ceil_mode=False)\n",
       "  (fc): Linear(in_features=1408, out_features=10, bias=True)\n",
       ")"
      ]
     },
     "execution_count": 8,
     "metadata": {},
     "output_type": "execute_result"
    }
   ],
   "source": [
    "model = Net()\n",
    "device = torch.device('cuda:0' if torch.cuda.is_available() else 'cpu')\n",
    "model.to(device)"
   ]
  },
  {
   "cell_type": "code",
   "execution_count": 9,
   "metadata": {},
   "outputs": [],
   "source": [
    "criterion = torch.nn.CrossEntropyLoss()\n",
    "optimizer = optim.SGD(model.parameters(), lr=0.01, momentum=0.5)"
   ]
  },
  {
   "cell_type": "code",
   "execution_count": 10,
   "metadata": {},
   "outputs": [],
   "source": [
    "def train(epoch):\n",
    "    run_loss = 0\n",
    "    for batch_idx, [inputs, labels] in enumerate(train_loader):\n",
    "        inputs, labels = inputs.to(device), labels.to(device)\n",
    "        optimizer.zero_grad()\n",
    "        \n",
    "        outputs = model(inputs)\n",
    "        loss = criterion(outputs, labels)\n",
    "        loss.backward()\n",
    "        optimizer.step()\n",
    "        run_loss += loss.item()\n",
    "    \n",
    "        if(batch_idx % 300 == 299):\n",
    "            print('[%d, %5d], loss: %.3f' % (epoch + 1, batch_idx + 1, run_loss / 300))\n",
    "            run_loss = 0"
   ]
  },
  {
   "cell_type": "code",
   "execution_count": 11,
   "metadata": {},
   "outputs": [],
   "source": [
    "def test():\n",
    "    correct = 0\n",
    "    total = 0\n",
    "    with torch.no_grad():\n",
    "        for [inputs, labels] in test_loader:\n",
    "            inputs, labels = inputs.to(device), labels.to(device)\n",
    "            outputs = model(inputs)\n",
    "            _, pred = torch.max(outputs.data, dim=1)\n",
    "            total += labels.size(0)\n",
    "            correct += (pred == labels).sum().item()\n",
    "    print('Accuracy on test set: %d %% [%d/%d]' % (100 * correct / total, correct, total) )"
   ]
  },
  {
   "cell_type": "code",
   "execution_count": 12,
   "metadata": {},
   "outputs": [
    {
     "name": "stdout",
     "output_type": "stream",
     "text": [
      "[1,   300], loss: 1.070\n",
      "[1,   600], loss: 0.203\n",
      "[1,   900], loss: 0.144\n",
      "Accuracy on test set: 96 % [9606/10000]\n",
      "[2,   300], loss: 0.120\n",
      "[2,   600], loss: 0.105\n",
      "[2,   900], loss: 0.090\n",
      "Accuracy on test set: 97 % [9762/10000]\n",
      "[3,   300], loss: 0.084\n",
      "[3,   600], loss: 0.073\n",
      "[3,   900], loss: 0.079\n",
      "Accuracy on test set: 98 % [9836/10000]\n",
      "[4,   300], loss: 0.061\n",
      "[4,   600], loss: 0.068\n",
      "[4,   900], loss: 0.064\n",
      "Accuracy on test set: 98 % [9830/10000]\n",
      "[5,   300], loss: 0.059\n",
      "[5,   600], loss: 0.054\n",
      "[5,   900], loss: 0.054\n",
      "Accuracy on test set: 98 % [9818/10000]\n",
      "[6,   300], loss: 0.051\n",
      "[6,   600], loss: 0.049\n",
      "[6,   900], loss: 0.048\n",
      "Accuracy on test set: 98 % [9853/10000]\n",
      "[7,   300], loss: 0.043\n",
      "[7,   600], loss: 0.045\n",
      "[7,   900], loss: 0.049\n",
      "Accuracy on test set: 98 % [9881/10000]\n",
      "[8,   300], loss: 0.037\n",
      "[8,   600], loss: 0.040\n",
      "[8,   900], loss: 0.048\n",
      "Accuracy on test set: 98 % [9878/10000]\n",
      "[9,   300], loss: 0.038\n",
      "[9,   600], loss: 0.039\n",
      "[9,   900], loss: 0.035\n",
      "Accuracy on test set: 98 % [9880/10000]\n",
      "[10,   300], loss: 0.034\n",
      "[10,   600], loss: 0.039\n",
      "[10,   900], loss: 0.035\n",
      "Accuracy on test set: 99 % [9902/10000]\n"
     ]
    }
   ],
   "source": [
    "if __name__ == '__main__':\n",
    "    for i in range(10):\n",
    "        train(i)\n",
    "        test()"
   ]
  }
 ],
 "metadata": {
  "kernelspec": {
   "display_name": "Python 3",
   "language": "python",
   "name": "python3"
  },
  "language_info": {
   "codemirror_mode": {
    "name": "ipython",
    "version": 3
   },
   "file_extension": ".py",
   "mimetype": "text/x-python",
   "name": "python",
   "nbconvert_exporter": "python",
   "pygments_lexer": "ipython3",
   "version": "3.8.3"
  }
 },
 "nbformat": 4,
 "nbformat_minor": 4
}
