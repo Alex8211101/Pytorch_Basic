{
 "cells": [
  {
   "cell_type": "markdown",
   "metadata": {},
   "source": [
    "## 1. 模型的保存与读取\n",
    "#### torch.save(model.state_dict(), 'model.pkl')\n",
    "#### model.load_state_dict(torch.load('model.pkl'))"
   ]
  },
  {
   "cell_type": "markdown",
   "metadata": {},
   "source": [
    "## 2. 使用GPU进行训练\n",
    "#### (1) 将模型传入到cuda里面\n",
    "#### model = Net()\n",
    "#### device = torch.device('cuda:0' if torch.cuda.is_available() else 'cpu')\n",
    "#### model.to(device)\n",
    "\n",
    "#### (2) 将训练集和测试集的数据传入到cuda里面\n",
    "#### inputs, outputs = inputs.to(device), outputs.to(device)"
   ]
  },
  {
   "cell_type": "markdown",
   "metadata": {},
   "source": [
    "## 3.将训练时的一些参数存入csv文件中\n",
    "### 详见02-Dataset_Dataloader\n",
    "#### (1) 首先定义在循环外定义log\n",
    "#### log = pd.DataFrame(index=[], columns=['epoch', 'lr', 'loss'])\n",
    "#### (2) 在枚举内定义temp，然后加到log中\n",
    "#### temp = pd.Series([epoch, 0.01, loss.item()], index=['epoch', 'lr', 'loss'])\n",
    "#### log = log.append(temp, ignore_index=True) \n",
    "#### (3) 将log存到csv文件中        \n",
    "#### log.to_csv('log.csv', index=False)"
   ]
  }
 ],
 "metadata": {
  "kernelspec": {
   "display_name": "Python 3",
   "language": "python",
   "name": "python3"
  },
  "language_info": {
   "codemirror_mode": {
    "name": "ipython",
    "version": 3
   },
   "file_extension": ".py",
   "mimetype": "text/x-python",
   "name": "python",
   "nbconvert_exporter": "python",
   "pygments_lexer": "ipython3",
   "version": "3.8.3"
  }
 },
 "nbformat": 4,
 "nbformat_minor": 4
}
