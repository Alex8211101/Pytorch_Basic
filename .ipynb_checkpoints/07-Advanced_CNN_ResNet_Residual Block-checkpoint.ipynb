{
 "cells": [
  {
   "cell_type": "markdown",
   "metadata": {},
   "source": [
    "![title](./picture/Res1.jpg)\n",
    "### 梯度消失：\n",
    "#### 反向传播过程中，如果每一处梯度都小于1，用链式法则把一连串的梯度相乘，最后梯度趋近于0，那么权重就得不到更新，\n",
    "#### 离输入比较近的块没办法得到充分的训练。\n",
    "#### 由此提出了ResNET，其原理是Resdual Block中的输出在激活之前先加上的输入x，\n",
    "#### 那么通过链式法则求导时，在某一处梯度趋进于0时，就会变成在1附近，从而使得前面的块得到充分的训练。残差块如下图：\n",
    "### 注意，残差块要保证：\n",
    "#### (1) 输出图像的尺寸不变，所以选取3×3的卷积核是，padding要设为1。\n",
    "#### (2) 输入输出的通道数一样，所以通过卷积层的通道数都设置为channels\n",
    "![title](./picture/Res2.jpg)"
   ]
  },
  {
   "cell_type": "code",
   "execution_count": 1,
   "metadata": {},
   "outputs": [],
   "source": [
    "import torch\n",
    "from torchvision import transforms\n",
    "from torchvision import datasets\n",
    "from torch.utils.data import DataLoader\n",
    "import torch.nn.functional as F\n",
    "import torch.optim as optim\n",
    "import torch.nn as nn"
   ]
  },
  {
   "cell_type": "code",
   "execution_count": 2,
   "metadata": {},
   "outputs": [],
   "source": [
    "batch_size = 64\n",
    "transform = transforms.Compose([\n",
    "    transforms.ToTensor(),\n",
    "    transforms.Normalize((0.1307, ), (0.3801,))\n",
    "])"
   ]
  },
  {
   "cell_type": "code",
   "execution_count": 3,
   "metadata": {},
   "outputs": [],
   "source": [
    "train_dataset = datasets.MNIST(root='./dataset/mnist/',\n",
    "                               train=True,\n",
    "                               download=False,\n",
    "                               transform=transform)\n",
    "\n",
    "train_loader = DataLoader(train_dataset,\n",
    "                          shuffle=True,\n",
    "                          batch_size=batch_size)"
   ]
  },
  {
   "cell_type": "code",
   "execution_count": 4,
   "metadata": {},
   "outputs": [],
   "source": [
    "test_dataset = datasets.MNIST(root='./dataset/mnist/',\n",
    "                               train=False,\n",
    "                               download=False,\n",
    "                               transform=transform)\n",
    "\n",
    "test_loader = DataLoader(test_dataset,\n",
    "                          shuffle=False,\n",
    "                          batch_size=batch_size)"
   ]
  },
  {
   "cell_type": "code",
   "execution_count": 5,
   "metadata": {},
   "outputs": [
    {
     "data": {
      "text/html": [
       "<img src='./picture/Res3.jpg', width=800>\n",
       "# 残差块要保证输入张量的维度和输出张量的维度完全一样\n"
      ],
      "text/plain": [
       "<IPython.core.display.HTML object>"
      ]
     },
     "metadata": {},
     "output_type": "display_data"
    }
   ],
   "source": [
    "%%html\n",
    "<img src='./picture/Res3.jpg', width=800>\n",
    "# 残差块要保证输入张量的维度和输出张量的维度完全一样"
   ]
  },
  {
   "cell_type": "code",
   "execution_count": 6,
   "metadata": {},
   "outputs": [],
   "source": [
    "class ResidualBlock(nn.Module):\n",
    "    def __init__(self, channels):\n",
    "        super(ResidualBlock, self).__init__()\n",
    "        self.channels = channels\n",
    "        self.conv1 = nn.Conv2d(channels, channels,\n",
    "                               kernel_size=3, padding=1)\n",
    "        self.conv2 = nn.Conv2d(channels, channels,\n",
    "                               kernel_size=3, padding=1)\n",
    "        \n",
    "    def forward(self, x):\n",
    "        y = F.relu(self.conv1(x))\n",
    "        y = self.conv2(y)\n",
    "        return F.relu(x + y)"
   ]
  },
  {
   "cell_type": "code",
   "execution_count": 7,
   "metadata": {},
   "outputs": [],
   "source": [
    "class Net(nn.Module):\n",
    "    def __init__(self):\n",
    "        super(Net, self).__init__()\n",
    "        self.conv1 = nn.Conv2d(1, 16, kernel_size=5)\n",
    "        self.conv2 = nn.Conv2d(16, 32, kernel_size=5)\n",
    "        self.mp = nn.MaxPool2d(2)\n",
    "        \n",
    "        self.rblock1 = ResidualBlock(16)\n",
    "        self.rblock2 = ResidualBlock(32)\n",
    "        \n",
    "        self.fc = nn.Linear(512, 10)\n",
    "        \n",
    "    def forward(self, x):\n",
    "        in_size = x.size(0)\n",
    "        x = self.mp(F.relu(self.conv1(x)))\n",
    "        x = self.rblock1(x)\n",
    "        x = self.mp(F.relu(self.conv2(x)))\n",
    "        x = self.rblock2(x)\n",
    "        x = x.view(in_size, -1)\n",
    "        x = self.fc(x)\n",
    "        return x"
   ]
  },
  {
   "cell_type": "code",
   "execution_count": 8,
   "metadata": {},
   "outputs": [
    {
     "data": {
      "text/plain": [
       "Net(\n",
       "  (conv1): Conv2d(1, 16, kernel_size=(5, 5), stride=(1, 1))\n",
       "  (conv2): Conv2d(16, 32, kernel_size=(5, 5), stride=(1, 1))\n",
       "  (mp): MaxPool2d(kernel_size=2, stride=2, padding=0, dilation=1, ceil_mode=False)\n",
       "  (rblock1): ResidualBlock(\n",
       "    (conv1): Conv2d(16, 16, kernel_size=(3, 3), stride=(1, 1), padding=(1, 1))\n",
       "    (conv2): Conv2d(16, 16, kernel_size=(3, 3), stride=(1, 1), padding=(1, 1))\n",
       "  )\n",
       "  (rblock2): ResidualBlock(\n",
       "    (conv1): Conv2d(32, 32, kernel_size=(3, 3), stride=(1, 1), padding=(1, 1))\n",
       "    (conv2): Conv2d(32, 32, kernel_size=(3, 3), stride=(1, 1), padding=(1, 1))\n",
       "  )\n",
       "  (fc): Linear(in_features=512, out_features=10, bias=True)\n",
       ")"
      ]
     },
     "execution_count": 8,
     "metadata": {},
     "output_type": "execute_result"
    }
   ],
   "source": [
    "model = Net()\n",
    "device = torch.device('cuda:0' if torch.cuda.is_available() else 'cpu')\n",
    "model.to(device)"
   ]
  },
  {
   "cell_type": "code",
   "execution_count": 9,
   "metadata": {},
   "outputs": [],
   "source": [
    "criterion = torch.nn.CrossEntropyLoss()\n",
    "optimizer = optim.SGD(model.parameters(), lr=0.01, momentum=0.5)"
   ]
  },
  {
   "cell_type": "code",
   "execution_count": 10,
   "metadata": {},
   "outputs": [],
   "source": [
    "def train(epoch):\n",
    "    run_loss = 0\n",
    "    for batch_idx, [inputs, labels] in enumerate(train_loader):\n",
    "        inputs, labels = inputs.to(device), labels.to(device)\n",
    "        optimizer.zero_grad()\n",
    "        \n",
    "        outputs = model(inputs)\n",
    "        loss = criterion(outputs, labels)\n",
    "        loss.backward()\n",
    "        optimizer.step()\n",
    "        run_loss += loss.item()\n",
    "    \n",
    "        if(batch_idx % 300 == 299):\n",
    "            print('[%d, %5d], loss: %.3f' % (epoch + 1, batch_idx + 1, run_loss / 300))\n",
    "            run_loss = 0"
   ]
  },
  {
   "cell_type": "code",
   "execution_count": 11,
   "metadata": {},
   "outputs": [],
   "source": [
    "def test():\n",
    "    correct = 0\n",
    "    total = 0\n",
    "    with torch.no_grad():\n",
    "        for [inputs, labels] in test_loader:\n",
    "            inputs, labels = inputs.to(device), labels.to(device)\n",
    "            outputs = model(inputs)\n",
    "            _, pred = torch.max(outputs.data, dim=1)\n",
    "            total += labels.size(0)\n",
    "            correct += (pred == labels).sum().item()\n",
    "    print('Accuracy on test set: %d %% [%d/%d]' % (100 * correct / total, correct, total) )"
   ]
  },
  {
   "cell_type": "code",
   "execution_count": 12,
   "metadata": {},
   "outputs": [
    {
     "name": "stdout",
     "output_type": "stream",
     "text": [
      "[1,   300], loss: 0.637\n",
      "[1,   600], loss: 0.169\n",
      "[1,   900], loss: 0.124\n",
      "Accuracy on test set: 97 % [9718/10000]\n",
      "[2,   300], loss: 0.100\n",
      "[2,   600], loss: 0.084\n",
      "[2,   900], loss: 0.079\n",
      "Accuracy on test set: 96 % [9678/10000]\n",
      "[3,   300], loss: 0.071\n",
      "[3,   600], loss: 0.063\n",
      "[3,   900], loss: 0.058\n",
      "Accuracy on test set: 97 % [9728/10000]\n",
      "[4,   300], loss: 0.053\n",
      "[4,   600], loss: 0.054\n",
      "[4,   900], loss: 0.050\n",
      "Accuracy on test set: 98 % [9837/10000]\n",
      "[5,   300], loss: 0.043\n",
      "[5,   600], loss: 0.045\n",
      "[5,   900], loss: 0.045\n",
      "Accuracy on test set: 98 % [9867/10000]\n",
      "[6,   300], loss: 0.039\n",
      "[6,   600], loss: 0.037\n",
      "[6,   900], loss: 0.038\n",
      "Accuracy on test set: 98 % [9878/10000]\n",
      "[7,   300], loss: 0.031\n",
      "[7,   600], loss: 0.034\n",
      "[7,   900], loss: 0.034\n",
      "Accuracy on test set: 98 % [9878/10000]\n",
      "[8,   300], loss: 0.027\n",
      "[8,   600], loss: 0.033\n",
      "[8,   900], loss: 0.029\n",
      "Accuracy on test set: 98 % [9865/10000]\n",
      "[9,   300], loss: 0.026\n",
      "[9,   600], loss: 0.028\n",
      "[9,   900], loss: 0.025\n",
      "Accuracy on test set: 98 % [9881/10000]\n",
      "[10,   300], loss: 0.024\n",
      "[10,   600], loss: 0.024\n",
      "[10,   900], loss: 0.022\n",
      "Accuracy on test set: 98 % [9879/10000]\n"
     ]
    }
   ],
   "source": [
    "if __name__ == '__main__':\n",
    "    for i in range(10):\n",
    "        train(i)\n",
    "        test()"
   ]
  }
 ],
 "metadata": {
  "kernelspec": {
   "display_name": "Python 3",
   "language": "python",
   "name": "python3"
  },
  "language_info": {
   "codemirror_mode": {
    "name": "ipython",
    "version": 3
   },
   "file_extension": ".py",
   "mimetype": "text/x-python",
   "name": "python",
   "nbconvert_exporter": "python",
   "pygments_lexer": "ipython3",
   "version": "3.8.3"
  }
 },
 "nbformat": 4,
 "nbformat_minor": 4
}
