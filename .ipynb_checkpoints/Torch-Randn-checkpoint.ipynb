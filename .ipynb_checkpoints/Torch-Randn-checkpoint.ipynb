{
 "cells": [
  {
   "cell_type": "code",
   "execution_count": 1,
   "metadata": {},
   "outputs": [
    {
     "data": {
      "text/html": [
       "<img src='./picture/CNN6.jpg', width=600>\n"
      ],
      "text/plain": [
       "<IPython.core.display.HTML object>"
      ]
     },
     "metadata": {},
     "output_type": "display_data"
    }
   ],
   "source": [
    "%%html\n",
    "<img src='./picture/CNN6.jpg', width=600>"
   ]
  },
  {
   "cell_type": "code",
   "execution_count": 2,
   "metadata": {},
   "outputs": [],
   "source": [
    "import torch"
   ]
  },
  {
   "cell_type": "code",
   "execution_count": 3,
   "metadata": {},
   "outputs": [],
   "source": [
    "in_channels, out_channels= 5, 10\n",
    "width, height = 100, 100\n",
    "kernel_size = 3\n",
    "batch_size = 1"
   ]
  },
  {
   "cell_type": "code",
   "execution_count": 4,
   "metadata": {},
   "outputs": [],
   "source": [
    "input = torch.randn(batch_size, in_channels, width, height)\n",
    "\n",
    "conv_layer = torch.nn.Conv2d(in_channels, out_channels, kernel_size=kernel_size)\n",
    "\n",
    "output = conv_layer(input)"
   ]
  },
  {
   "cell_type": "markdown",
   "metadata": {},
   "source": [
    "### Python中size和shape区别\n",
    "### 在numpy里面，两个是不相同的，size: 所有元素的个数和， shape: 数组类型大小（3，2） ，\n",
    "### 但在pytorch里面，两个是一样的,表达的都是数组类型"
   ]
  },
  {
   "cell_type": "code",
   "execution_count": 5,
   "metadata": {},
   "outputs": [
    {
     "name": "stdout",
     "output_type": "stream",
     "text": [
      "torch.Size([1, 5, 100, 100])\n",
      "torch.Size([1, 10, 98, 98])\n",
      "torch.Size([10, 5, 3, 3])\n"
     ]
    }
   ],
   "source": [
    "print(input.shape)\n",
    "print(output.size())\n",
    "print(conv_layer.weight.shape)"
   ]
  },
  {
   "cell_type": "code",
   "execution_count": 6,
   "metadata": {},
   "outputs": [
    {
     "name": "stdout",
     "output_type": "stream",
     "text": [
      "1\n",
      "5\n"
     ]
    }
   ],
   "source": [
    "print(input.shape[0])\n",
    "print(input.size(1))"
   ]
  }
 ],
 "metadata": {
  "kernelspec": {
   "display_name": "Python 3",
   "language": "python",
   "name": "python3"
  },
  "language_info": {
   "codemirror_mode": {
    "name": "ipython",
    "version": 3
   },
   "file_extension": ".py",
   "mimetype": "text/x-python",
   "name": "python",
   "nbconvert_exporter": "python",
   "pygments_lexer": "ipython3",
   "version": "3.8.3"
  }
 },
 "nbformat": 4,
 "nbformat_minor": 4
}
