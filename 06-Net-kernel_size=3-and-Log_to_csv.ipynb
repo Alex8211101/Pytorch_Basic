{
 "cells": [
  {
   "cell_type": "code",
   "execution_count": 1,
   "metadata": {},
   "outputs": [
    {
     "data": {
      "text/html": [
       "<img src='./picture/CNN7.jpg', width=800>\n"
      ],
      "text/plain": [
       "<IPython.core.display.HTML object>"
      ]
     },
     "metadata": {},
     "output_type": "display_data"
    }
   ],
   "source": [
    "%%html\n",
    "<img src='./picture/CNN7.jpg', width=800>"
   ]
  },
  {
   "cell_type": "code",
   "execution_count": 2,
   "metadata": {},
   "outputs": [],
   "source": [
    "import torch\n",
    "from torchvision import transforms\n",
    "from torchvision import datasets\n",
    "from torch.utils.data import DataLoader\n",
    "import torch.nn as nn\n",
    "import torch.optim as optim\n",
    "import torch.nn.functional as F\n",
    "import pandas as pd"
   ]
  },
  {
   "cell_type": "code",
   "execution_count": 3,
   "metadata": {},
   "outputs": [],
   "source": [
    "batch_size = 64\n",
    "transform = transforms.Compose([\n",
    "    transforms.ToTensor(),\n",
    "    transforms.Normalize((0.1307,),(0.3801,))\n",
    "])"
   ]
  },
  {
   "cell_type": "code",
   "execution_count": 4,
   "metadata": {},
   "outputs": [],
   "source": [
    "train_dataset = datasets.MNIST(root='./dataset/mnist/',\n",
    "                               train=True,\n",
    "                               download=False,\n",
    "                               transform=transform)\n",
    "\n",
    "train_loader = DataLoader(train_dataset,\n",
    "                          shuffle=True,\n",
    "                          batch_size=batch_size)"
   ]
  },
  {
   "cell_type": "code",
   "execution_count": 5,
   "metadata": {},
   "outputs": [],
   "source": [
    "test_dataset = datasets.MNIST(root='./dataset/mnist/',\n",
    "                              train=False,\n",
    "                              download=False,\n",
    "                              transform=transform)\n",
    "\n",
    "test_loader = DataLoader(test_dataset,\n",
    "                         shuffle=False,\n",
    "                         batch_size=batch_size)"
   ]
  },
  {
   "cell_type": "code",
   "execution_count": 6,
   "metadata": {},
   "outputs": [],
   "source": [
    "class InceptionA(nn.Module):\n",
    "    def __init__(self, in_channels):\n",
    "        super(InceptionA, self).__init__()\n",
    "        self.branch_pool = nn.Conv2d(in_channels, 24, kernel_size=1)\n",
    "        \n",
    "        self.branch1x1 = nn.Conv2d(in_channels, 16, kernel_size=1)\n",
    "        \n",
    "        self.branch5x5_1 = nn.Conv2d(in_channels, 16, kernel_size=1)\n",
    "        self.branch5x5_2 = nn.Conv2d(16, 24, kernel_size=5, padding=2)\n",
    "        \n",
    "        self.branch3x3_1 = nn.Conv2d(in_channels, 16, kernel_size=1)\n",
    "        self.branch3x3_2 = nn.Conv2d(16, 24, kernel_size=3, padding=1)        \n",
    "        self.branch3x3_3 = nn.Conv2d(24, 24, kernel_size=3, padding=1)\n",
    "        \n",
    "    def forward(self, x):\n",
    "        branch_pool = F.avg_pool2d(x, kernel_size=3, stride=1, padding=1)\n",
    "        branch_pool = self.branch_pool(branch_pool)\n",
    "        \n",
    "        branch1x1 = self.branch1x1(x)\n",
    "        \n",
    "        branch5x5 = self.branch5x5_1(x)\n",
    "        branch5x5 = self.branch5x5_2(branch5x5)\n",
    "        \n",
    "        branch3x3 = self.branch3x3_1(x)\n",
    "        branch3x3 = self.branch3x3_2(branch3x3)\n",
    "        branch3x3 = self.branch3x3_3(branch3x3)\n",
    "        \n",
    "        outputs = [branch_pool, branch1x1, branch5x5, branch3x3]\n",
    "        return torch.cat(outputs, dim=1)"
   ]
  },
  {
   "cell_type": "code",
   "execution_count": 7,
   "metadata": {},
   "outputs": [],
   "source": [
    "class Net(nn.Module):\n",
    "    def __init__(self):\n",
    "        super(Net, self).__init__()\n",
    "        self.conv1 = nn.Conv2d(1, 10, kernel_size=3)\n",
    "        self.conv2 = nn.Conv2d(88, 20, kernel_size=3)\n",
    "        \n",
    "        self.incep1 = InceptionA(10)\n",
    "        self.incep2 = InceptionA(20)\n",
    "        \n",
    "        self.mp = nn.MaxPool2d(2)\n",
    "        self.fc = nn.Linear(2200, 10)\n",
    "    \n",
    "    def forward(self, x):\n",
    "        in_size = x.size(0)\n",
    "        x = F.relu(self.mp(self.conv1(x)))\n",
    "        x = self.incep1(x)\n",
    "        x = F.relu(self.mp(self.conv2(x)))\n",
    "        x = self.incep2(x)\n",
    "        x = x.view(in_size, -1)\n",
    "        return self.fc(x)"
   ]
  },
  {
   "cell_type": "code",
   "execution_count": 8,
   "metadata": {},
   "outputs": [
    {
     "data": {
      "text/plain": [
       "Net(\n",
       "  (conv1): Conv2d(1, 10, kernel_size=(3, 3), stride=(1, 1))\n",
       "  (conv2): Conv2d(88, 20, kernel_size=(3, 3), stride=(1, 1))\n",
       "  (incep1): InceptionA(\n",
       "    (branch_pool): Conv2d(10, 24, kernel_size=(1, 1), stride=(1, 1))\n",
       "    (branch1x1): Conv2d(10, 16, kernel_size=(1, 1), stride=(1, 1))\n",
       "    (branch5x5_1): Conv2d(10, 16, kernel_size=(1, 1), stride=(1, 1))\n",
       "    (branch5x5_2): Conv2d(16, 24, kernel_size=(5, 5), stride=(1, 1), padding=(2, 2))\n",
       "    (branch3x3_1): Conv2d(10, 16, kernel_size=(1, 1), stride=(1, 1))\n",
       "    (branch3x3_2): Conv2d(16, 24, kernel_size=(3, 3), stride=(1, 1), padding=(1, 1))\n",
       "    (branch3x3_3): Conv2d(24, 24, kernel_size=(3, 3), stride=(1, 1), padding=(1, 1))\n",
       "  )\n",
       "  (incep2): InceptionA(\n",
       "    (branch_pool): Conv2d(20, 24, kernel_size=(1, 1), stride=(1, 1))\n",
       "    (branch1x1): Conv2d(20, 16, kernel_size=(1, 1), stride=(1, 1))\n",
       "    (branch5x5_1): Conv2d(20, 16, kernel_size=(1, 1), stride=(1, 1))\n",
       "    (branch5x5_2): Conv2d(16, 24, kernel_size=(5, 5), stride=(1, 1), padding=(2, 2))\n",
       "    (branch3x3_1): Conv2d(20, 16, kernel_size=(1, 1), stride=(1, 1))\n",
       "    (branch3x3_2): Conv2d(16, 24, kernel_size=(3, 3), stride=(1, 1), padding=(1, 1))\n",
       "    (branch3x3_3): Conv2d(24, 24, kernel_size=(3, 3), stride=(1, 1), padding=(1, 1))\n",
       "  )\n",
       "  (mp): MaxPool2d(kernel_size=2, stride=2, padding=0, dilation=1, ceil_mode=False)\n",
       "  (fc): Linear(in_features=2200, out_features=10, bias=True)\n",
       ")"
      ]
     },
     "execution_count": 8,
     "metadata": {},
     "output_type": "execute_result"
    }
   ],
   "source": [
    "model = Net()\n",
    "device = torch.device('cuda:0' if torch.cuda.is_available() else 'cpu')\n",
    "model.to(device)"
   ]
  },
  {
   "cell_type": "code",
   "execution_count": 9,
   "metadata": {},
   "outputs": [],
   "source": [
    "criterion = nn.CrossEntropyLoss()\n",
    "optimizer = optim.SGD(model.parameters(), lr=0.01, momentum=0.5)"
   ]
  },
  {
   "cell_type": "code",
   "execution_count": 10,
   "metadata": {},
   "outputs": [],
   "source": [
    "def train(epoch):\n",
    "    run_loss = 0\n",
    "    for batch_idx, [inputs, labels] in enumerate(train_loader):\n",
    "        inputs, labels = inputs.to(device), labels.to(device)\n",
    "        optimizer.zero_grad()\n",
    "        \n",
    "        outputs = model(inputs)\n",
    "        loss = criterion(outputs, labels)\n",
    "        loss.backward()\n",
    "        optimizer.step()\n",
    "        run_loss += loss.item()\n",
    "        \n",
    "        temp = pd.Series([(epoch + 1), (batch_idx + 1), loss.item()], index=['epoch', 'batch_idx', 'loss'])\n",
    "        global log # 声明引用的是全局变量\n",
    "        log = log.append(temp, ignore_index=True)\n",
    "        log.to_csv('log/log1.csv', index=False)\n",
    "        \n",
    "        if batch_idx % 300 == 299:\n",
    "            print('[%d, %5d], loss: %.3f' % (epoch + 1, batch_idx + 1, run_loss / 300))\n",
    "            run_loss = 0"
   ]
  },
  {
   "cell_type": "code",
   "execution_count": 11,
   "metadata": {},
   "outputs": [],
   "source": [
    "def test():\n",
    "    correct = 0;\n",
    "    total = 0;\n",
    "    with torch.no_grad():\n",
    "        for [inputs, labels] in test_loader:\n",
    "            inputs, labels = inputs.to(device), labels.to(device)\n",
    "            outputs = model(inputs)\n",
    "            _, pred = torch.max(outputs, dim=1)\n",
    "            total += labels.size(0)\n",
    "            correct += (pred == labels).sum().item()\n",
    "    print('Accuracy on test set: %d %% [%d/%d] ' % (100 * correct / total, correct, total))"
   ]
  },
  {
   "cell_type": "code",
   "execution_count": 12,
   "metadata": {},
   "outputs": [
    {
     "name": "stdout",
     "output_type": "stream",
     "text": [
      "[1,   300], loss: 1.404\n",
      "[1,   600], loss: 0.337\n",
      "[1,   900], loss: 0.196\n",
      "Accuracy on test set: 96 % [9608/10000] \n",
      "[2,   300], loss: 0.134\n",
      "[2,   600], loss: 0.109\n",
      "[2,   900], loss: 0.097\n",
      "Accuracy on test set: 97 % [9765/10000] \n",
      "[3,   300], loss: 0.083\n",
      "[3,   600], loss: 0.085\n",
      "[3,   900], loss: 0.078\n",
      "Accuracy on test set: 97 % [9787/10000] \n",
      "[4,   300], loss: 0.072\n",
      "[4,   600], loss: 0.071\n",
      "[4,   900], loss: 0.066\n",
      "Accuracy on test set: 98 % [9830/10000] \n",
      "[5,   300], loss: 0.064\n",
      "[5,   600], loss: 0.062\n",
      "[5,   900], loss: 0.063\n",
      "Accuracy on test set: 98 % [9808/10000] \n",
      "[6,   300], loss: 0.060\n",
      "[6,   600], loss: 0.051\n",
      "[6,   900], loss: 0.058\n",
      "Accuracy on test set: 98 % [9823/10000] \n",
      "[7,   300], loss: 0.049\n",
      "[7,   600], loss: 0.055\n",
      "[7,   900], loss: 0.053\n",
      "Accuracy on test set: 98 % [9831/10000] \n",
      "[8,   300], loss: 0.048\n",
      "[8,   600], loss: 0.052\n",
      "[8,   900], loss: 0.051\n",
      "Accuracy on test set: 98 % [9858/10000] \n",
      "[9,   300], loss: 0.044\n",
      "[9,   600], loss: 0.045\n",
      "[9,   900], loss: 0.049\n",
      "Accuracy on test set: 98 % [9850/10000] \n",
      "[10,   300], loss: 0.045\n",
      "[10,   600], loss: 0.044\n",
      "[10,   900], loss: 0.041\n",
      "Accuracy on test set: 98 % [9849/10000] \n"
     ]
    }
   ],
   "source": [
    "if __name__ == '__main__':\n",
    "    log = pd.DataFrame(index=[], columns=['epoch', 'batch_idx', 'loss'])\n",
    "    for epoch in range(10):\n",
    "        train(epoch)\n",
    "        test()"
   ]
  }
 ],
 "metadata": {
  "kernelspec": {
   "display_name": "Python 3",
   "language": "python",
   "name": "python3"
  },
  "language_info": {
   "codemirror_mode": {
    "name": "ipython",
    "version": 3
   },
   "file_extension": ".py",
   "mimetype": "text/x-python",
   "name": "python",
   "nbconvert_exporter": "python",
   "pygments_lexer": "ipython3",
   "version": "3.8.3"
  }
 },
 "nbformat": 4,
 "nbformat_minor": 4
}
